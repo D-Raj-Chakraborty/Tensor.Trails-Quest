{
 "cells": [
  {
   "cell_type": "code",
   "execution_count": 2,
   "id": "c86e9462-7f15-4092-af0d-7005ab667cbc",
   "metadata": {},
   "outputs": [],
   "source": [
    "import nbformat\n",
    "from IPython import get_ipython\n",
    "\n",
    "# Load and parse the notebook\n",
    "with open(\"notebook_a.ipynb\") as f:\n",
    "    nb = nbformat.read(f, as_version=4)\n",
    "\n",
    "# Execute each code cell\n",
    "ip = get_ipython()\n",
    "for cell in nb.cells:\n",
    "    if cell.cell_type == 'code':\n",
    "        ip.run_cell(cell.source)\n"
   ]
  },
  {
   "cell_type": "code",
   "execution_count": null,
   "id": "7bb5f8d7-e6cc-4a0c-84d3-f49fce016ac4",
   "metadata": {},
   "outputs": [],
   "source": []
  }
 ],
 "metadata": {
  "kernelspec": {
   "display_name": "Python 3 (ipykernel)",
   "language": "python",
   "name": "python3"
  },
  "language_info": {
   "codemirror_mode": {
    "name": "ipython",
    "version": 3
   },
   "file_extension": ".py",
   "mimetype": "text/x-python",
   "name": "python",
   "nbconvert_exporter": "python",
   "pygments_lexer": "ipython3",
   "version": "3.11.4"
  }
 },
 "nbformat": 4,
 "nbformat_minor": 5
}
