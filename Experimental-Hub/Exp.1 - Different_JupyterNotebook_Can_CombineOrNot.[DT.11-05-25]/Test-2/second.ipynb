{
 "cells": [
  {
   "cell_type": "code",
   "execution_count": 1,
   "id": "c86e9462-7f15-4092-af0d-7005ab667cbc",
   "metadata": {},
   "outputs": [
    {
     "name": "stdout",
     "output_type": "stream",
     "text": [
      "Hello from notebook A!\n"
     ]
    }
   ],
   "source": [
    "from importnb import Notebook\n",
    "\n",
    "with Notebook():\n",
    "    import notebook_a  # assumes 'notebook_a.ipynb' exists\n",
    "    notebook_a.say_hello()"
   ]
  },
  {
   "cell_type": "code",
   "execution_count": null,
   "id": "7bb5f8d7-e6cc-4a0c-84d3-f49fce016ac4",
   "metadata": {},
   "outputs": [],
   "source": []
  }
 ],
 "metadata": {
  "kernelspec": {
   "display_name": "Python 3 (ipykernel)",
   "language": "python",
   "name": "python3"
  },
  "language_info": {
   "codemirror_mode": {
    "name": "ipython",
    "version": 3
   },
   "file_extension": ".py",
   "mimetype": "text/x-python",
   "name": "python",
   "nbconvert_exporter": "python",
   "pygments_lexer": "ipython3",
   "version": "3.11.4"
  }
 },
 "nbformat": 4,
 "nbformat_minor": 5
}
