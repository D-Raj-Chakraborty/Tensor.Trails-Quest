{
 "cells": [
  {
   "cell_type": "code",
   "execution_count": 1,
   "id": "14c4fede-dd5c-4575-8315-e5ed76a6f821",
   "metadata": {},
   "outputs": [],
   "source": [
    "# Inside notebook_a.ipynb\n",
    "def say_hello():\n",
    "    print(\"Hello from notebook A!\")"
   ]
  }
 ],
 "metadata": {
  "kernelspec": {
   "display_name": "Python 3 (ipykernel)",
   "language": "python",
   "name": "python3"
  },
  "language_info": {
   "codemirror_mode": {
    "name": "ipython",
    "version": 3
   },
   "file_extension": ".py",
   "mimetype": "text/x-python",
   "name": "python",
   "nbconvert_exporter": "python",
   "pygments_lexer": "ipython3",
   "version": "3.11.4"
  }
 },
 "nbformat": 4,
 "nbformat_minor": 5
}
